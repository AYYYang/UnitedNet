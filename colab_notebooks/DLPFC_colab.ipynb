{
  "cells": [
    {
      "cell_type": "markdown",
      "metadata": {
        "id": "view-in-github",
        "colab_type": "text"
      },
      "source": [
        "<a href=\"https://colab.research.google.com/github/LiuLab-Bioelectronics-Harvard/UnitedNet/blob/main/colab_notebooks/DLPFC_colab.ipynb\" target=\"_parent\"><img src=\"https://colab.research.google.com/assets/colab-badge.svg\" alt=\"Open In Colab\"/></a>"
      ]
    },
    {
      "cell_type": "code",
      "execution_count": null,
      "metadata": {
        "id": "AZIbVb-m719Y"
      },
      "outputs": [],
      "source": [
        "# install required modules for colab\n",
        "!pip install anndata scanpy"
      ]
    },
    {
      "cell_type": "code",
      "execution_count": null,
      "metadata": {
        "id": "sZlK7gYo76o5"
      },
      "outputs": [],
      "source": [
        "# mount the google drive\n",
        "from google.colab import drive\n",
        "drive.mount('/content/gdrive')\n",
        "#============================clone the repository to the folder 'UnitedNet_TestCodes' in google drive============ \n",
        "# %cd /content/gdrive/My Drive/UnitedNet_TestCodes\n",
        "# ! git clone https://github.com/LiuLab-Bioelectronics-Harvard/UnitedNet.git\n",
        "#change the directory\n",
        "%cd /content/gdrive/My Drive/UnitedNet_TestCodes/UnitedNet"
      ]
    },
    {
      "cell_type": "code",
      "execution_count": null,
      "metadata": {
        "id": "KhlpcjafCIaN"
      },
      "outputs": [],
      "source": [
        "technique = 'dlpfc'\n",
        "#========================change for colab===========================\n",
        "# data_path = f\"../data/{technique}\"\n",
        "# root_save_path = f\"../publish_weights/{technique}_iddouble\"\n",
        "data_path = f\"./data/{technique}\"\n",
        "root_save_path = f\"./publish_weights/{technique}_iddouble\"\n",
        "device = \"cuda:0\""
      ]
    },
    {
      "cell_type": "code",
      "execution_count": null,
      "metadata": {
        "id": "AkuFxc5qCsBI"
      },
      "outputs": [],
      "source": [
        "import anndata as ad\n",
        "import numpy as np\n",
        "import scanpy as sc\n",
        "import pandas as pd\n",
        "\n",
        "\n",
        "import sys\n",
        "sys.path.append('..')\n",
        "from src.interface import UnitedNet\n",
        "from src.configs import *\n",
        "from scipy.stats import spearmanr, pearsonr\n",
        "import matplotlib.pyplot as plt\n",
        "from sklearn.metrics import adjusted_rand_score\n"
      ]
    },
    {
      "cell_type": "code",
      "execution_count": null,
      "metadata": {
        "id": "pgJ8wjN5CvCX"
      },
      "outputs": [],
      "source": [
        "def split_data(test_batch):\n",
        "    adata_rna_train = adata_rna_all[adata_rna_all.obs['batch'] != test_batch]\n",
        "    adata_morph_train = adata_morph_all[adata_morph_all.obs['batch'] != test_batch]\n",
        "    adata_mrna_niche_train = adata_mrna_niche_all[adata_mrna_niche_all.obs['batch'] != test_batch]\n",
        "\n",
        "    adata_rna_test = adata_rna_all[adata_rna_all.obs['batch'] == test_batch]\n",
        "    adata_morph_test = adata_morph_all[adata_morph_all.obs['batch'] == test_batch]\n",
        "    adata_mrna_niche_test = adata_mrna_niche_all[adata_mrna_niche_all.obs['batch'] == test_batch]\n",
        "\n",
        "    return [adata_rna_train, adata_morph_train, adata_mrna_niche_train], [adata_rna_test, adata_morph_test,\n",
        "                                                                          adata_mrna_niche_test]\n",
        "\n",
        "\n",
        "def concat_adatas(adatas_train, adatas_test):\n",
        "    return [ad.concat([adata_train, adata_test]) for adata_train, adata_test in zip(adatas_train, adatas_test)]\n",
        "\n",
        "\n",
        "def save_umap(adata_all,label,test_batch,nametype):\n",
        "  fig,ax = plt.subplots(figsize=(6,4))\n",
        "  ax=sc.pl.umap(adata_all,color=label, ax=ax,show=False)\n",
        "  fig.savefig(root_save_path+f'/plot/{test_batch}_{nametype}_{label}.png',dpi=300)\n",
        "  \n",
        "\n",
        "def generate_adata(data, nonnan_indices, cell_type_label, cols, rows, batch):\n",
        "    data = data.loc[data.index[nonnan_indices]]\n",
        "    adata=ad.AnnData(X=np.array(data),obs=list(data.index))\n",
        "    adata.obs['label']  = cell_type_label\n",
        "    adata.obs['imagecol'] = cols\n",
        "    adata.obs['imagerow'] = rows\n",
        "    adata.obs['batch']  = batch\n",
        "    return adata"
      ]
    },
    {
      "cell_type": "markdown",
      "metadata": {
        "id": "1pJB-bzypv1t"
      },
      "source": [
        "# load input DLPFC data"
      ]
    },
    {
      "cell_type": "code",
      "execution_count": null,
      "metadata": {
        "id": "oGGEebMcpyw-"
      },
      "outputs": [],
      "source": [
        "#========================change for colab===========================\n",
        "# adata_rna_all = sc.read_h5ad(f'../data/{technique}/adata_rna_all.h5ad')\n",
        "# adata_morph_all = sc.read_h5ad(f'../data/{technique}/adata_morph_all.h5ad')\n",
        "# adata_mrna_niche_all = sc.read_h5ad(f'../data/{technique}/adata_mrna_niche_all.h5ad')\n",
        "adata_rna_all = sc.read_h5ad(f'./data/{technique}/adata_rna_all.h5ad')\n",
        "adata_morph_all = sc.read_h5ad(f'./data/{technique}/adata_morph_all.h5ad')\n",
        "adata_mrna_niche_all = sc.read_h5ad(f'./data/{technique}/adata_mrna_niche_all.h5ad')"
      ]
    },
    {
      "cell_type": "code",
      "execution_count": null,
      "metadata": {
        "id": "c0r4lNQ_C1dI",
        "scrolled": true
      },
      "outputs": [],
      "source": [
        "# ===========for demonstration purpose, consider the first test batch only===================\n",
        "# test_batches=['151670']\n",
        "\n",
        "test_batches=['151509','151507', '151508',  '151510' ,\n",
        "    '151669', '151670', '151671', '151672' ,\n",
        "    '151673', '151674', '151675', '151676' ]\n",
        "\n",
        "    \n",
        "for test_batch in test_batches:\n",
        "    print(test_batch)\n",
        "    adatas_train, adatas_test = split_data(test_batch)\n",
        "    save_path = f\"{root_save_path}/{test_batch}\"\n",
        "\n",
        "    model = UnitedNet(save_path, device=device, technique=dlpfc_config)\n",
        "    model.train(adatas_train)\n",
        "    model.transfer(adatas_train, adatas_test)"
      ]
    },
    {
      "cell_type": "markdown",
      "metadata": {
        "id": "XxmQygSHlHD_"
      },
      "source": [
        "# Plot figures"
      ]
    },
    {
      "cell_type": "markdown",
      "metadata": {
        "id": "NGqfJJ_-WfJB"
      },
      "source": [
        "Without UnitedNet fusion: apply UMAP to each modality data"
      ]
    },
    {
      "cell_type": "code",
      "execution_count": null,
      "metadata": {
        "id": "oxBqBIa_sAuQ"
      },
      "outputs": [],
      "source": [
        "#================================================================================================\n",
        "# for import errors in colab, restart runtime, load the trained model, and run the codes again\n",
        "#================================================================================================\n",
        "\n",
        "import matplotlib.pyplot as plt\n",
        "\n",
        "\n",
        "test_batch='151670'\n",
        "adatas_train, adatas_test = split_data(test_batch)\n",
        "adatas_all = concat_adatas(adatas_train, adatas_test)\n",
        "\n",
        "save_path = f\"{root_save_path}/{test_batch}\"\n",
        "\n",
        "\n",
        "cmap_wt = plt.get_cmap('ocean')\n",
        "new_cmap = list(cmap_wt(np.linspace(0, 0.91, 12)))\n",
        "size_umap = 120000 / adatas_all[0].shape[0]\n",
        "\n",
        "\n",
        "for mod_id in range(3):\n",
        "    fig,ax=plt.subplots()\n",
        "    sc.pp.neighbors(adatas_all[mod_id])\n",
        "    sc.tl.umap(adatas_all[mod_id])\n",
        "    ax = sc.pl.umap(adatas_all[mod_id][adatas_all[mod_id].obs['batch']!=test_batch],color=['label'],\n",
        "                    size=size_umap,frameon = False,palette='gist_rainbow',ax=ax,show=False)\n",
        "    \n",
        "\n",
        "    sc.pl.umap(adatas_all[mod_id][adatas_all[mod_id].obs['batch']==test_batch], color=['label'],\n",
        "               size=size_umap*1.2,frameon = True,palette=['grey'],ax=ax,\n",
        "               )"
      ]
    },
    {
      "cell_type": "markdown",
      "metadata": {
        "id": "DP1UgCiLSrGf"
      },
      "source": [
        "With UnitedNet fusion: apply UnitedNet to fuse data from different modalities"
      ]
    },
    {
      "cell_type": "markdown",
      "metadata": {
        "id": "t_MGJMgNrUj0"
      },
      "source": [
        "Load model and plot fused codes"
      ]
    },
    {
      "cell_type": "code",
      "execution_count": null,
      "metadata": {
        "id": "Vu-7CiYCpZ9u"
      },
      "outputs": [],
      "source": [
        "import matplotlib.pyplot as plt\n",
        "\n",
        "\n",
        "test_batch='151670'\n",
        "adatas_train, adatas_test = split_data(test_batch)\n",
        "adatas_all = concat_adatas(adatas_train, adatas_test)\n",
        "\n",
        "save_path = f\"{root_save_path}/{test_batch}\"\n",
        "\n",
        "model = UnitedNet(save_path, device=device, technique=dlpfc_config)\n",
        "model.load_model(f\"{root_save_path}/{test_batch}/transfer_epoch_50.pt\")\n",
        "\n",
        "adatas = concat_adatas(adatas_train, adatas_test)\n",
        "adata_all = model.infer(adatas)\n",
        "adata_all.obs['batch'] = list(adatas[0].obs['batch'])\n",
        "adata_all.obs['label'] = list(adatas[0].obs['label'])"
      ]
    },
    {
      "cell_type": "code",
      "execution_count": null,
      "metadata": {
        "id": "qwn3uen-64md"
      },
      "outputs": [],
      "source": [
        "\n",
        "import matplotlib.pyplot as plt\n",
        "cmap_wt = plt.get_cmap('ocean')\n",
        "new_cmap = list(cmap_wt(np.linspace(0, 0.91, 12)))\n",
        "size_umap = 120000 / adatas[0].shape[0]\n",
        "\n",
        "fig,ax=plt.subplots()\n",
        "ax = sc.pl.umap(adata_all[adata_all.obs['batch']!=test_batch],color=['batch'],size=size_umap,frameon = False,palette=new_cmap,ax=ax,show=False)\n",
        "sc.pl.umap(adata_all[adata_all.obs['batch']==test_batch],color=['batch'],size=size_umap*1.2,frameon = True,palette=['grey'],\n",
        "           ax=ax,save=f'dlpfc_batch_label.pdf')\n",
        "\n",
        "fig,ax=plt.subplots()\n",
        "sc.pl.umap(adata_all,color=['label'],size=size_umap*1.2,frameon = True,palette='gist_rainbow',\n",
        "           ax=ax,save=f'dlpfc_gt_label.pdf')\n",
        "\n",
        "fig,ax=plt.subplots()\n",
        "sc.pl.umap(adata_all,color=['predicted_label'],size=size_umap*1.2,frameon = True,palette='gist_rainbow',\n",
        "           ax=ax,save=f'dlpfc_predict_label.pdf')\n",
        "fig,ax=plt.subplots()\n",
        "sc.pl.umap(adata_all[adata_all.obs['batch']==test_batch],color=['predicted_label'],frameon = True,palette='gist_rainbow',\n",
        "       ax=ax,save=f'dlpfc_predict_label_test.pdf')"
      ]
    },
    {
      "cell_type": "code",
      "execution_count": null,
      "metadata": {
        "id": "kq9NmhFB64me"
      },
      "outputs": [],
      "source": [
        "import matplotlib\n",
        "matplotlib.rcParams['savefig.dpi'] = 1200\n",
        "\n",
        "fig,ax=plt.subplots()\n",
        "ax = sc.pl.umap(adata_all[adata_all.obs['batch']!=test_batch],color=['batch'],size=size_umap,frameon = False,palette=new_cmap,ax=ax,show=False)\n",
        "sc.pl.umap(adata_all[adata_all.obs['batch']==test_batch],color=['batch'],size=size_umap*1.2,frameon = True,palette=['grey'],\n",
        "           ax=ax,save=f'dlpfc_batch_label.png',legend_loc =None)\n",
        "\n",
        "fig,ax=plt.subplots()\n",
        "sc.pl.umap(adata_all,color=['label'],size=size_umap*1.2,frameon = True,palette='gist_rainbow',\n",
        "           ax=ax,save=f'dlpfc_gt_label.png',legend_loc =None)\n",
        "\n",
        "fig,ax=plt.subplots()\n",
        "sc.pl.umap(adata_all,color=['predicted_label'],size=size_umap*1.2,frameon = True,palette='gist_rainbow',\n",
        "           ax=ax,save=f'dlpfc_predict_label.png',legend_loc =None)\n",
        "fig,ax=plt.subplots()\n",
        "sc.pl.umap(adata_all[adata_all.obs['batch']==test_batch],color=['predicted_label'],frameon = True,palette='gist_rainbow',\n",
        "       ax=ax,save=f'dlpfc_predict_label_test.png',legend_loc =None)"
      ]
    },
    {
      "cell_type": "code",
      "execution_count": null,
      "metadata": {
        "id": "xLvDKZ85o1F1"
      },
      "outputs": [],
      "source": [
        "\n",
        "import matplotlib.pyplot as plt\n",
        "cmap_wt = plt.get_cmap('ocean')\n",
        "new_cmap = list(cmap_wt(np.linspace(0, 0.91, 12)))\n",
        "size_umap = 120000 / adatas[0].shape[0]\n",
        "\n",
        "fig,ax=plt.subplots()\n",
        "ax = sc.pl.umap(adata_all[adata_all.obs['batch']!=test_batch],color=['batch'],size=size_umap,frameon = False,palette=new_cmap,ax=ax,show=False)\n",
        "sc.pl.umap(adata_all[adata_all.obs['batch']==test_batch],color=['batch'],size=size_umap*1.2,frameon = True,palette=['grey'],\n",
        "           ax=ax,save=f'dlpfc_batch_label.pdf')\n",
        "\n",
        "fig,ax=plt.subplots()\n",
        "sc.pl.umap(adata_all,color=['label'],size=size_umap*1.2,frameon = True,palette='gist_rainbow',\n",
        "           ax=ax,save=f'dlpfc_gt_label.pdf')\n",
        "\n",
        "fig,ax=plt.subplots()\n",
        "sc.pl.umap(adata_all,color=['predicted_label'],size=size_umap*1.2,frameon = True,palette='gist_rainbow',\n",
        "           ax=ax,save=f'dlpfc_predict_label.pdf')"
      ]
    },
    {
      "cell_type": "code",
      "execution_count": null,
      "metadata": {
        "id": "FDiaOBsDm1QD"
      },
      "outputs": [],
      "source": [
        "from matplotlib.patches import FancyArrowPatch\n",
        "from mpl_toolkits.mplot3d import proj3d\n",
        "\n",
        "class Arrow3D(FancyArrowPatch):\n",
        "    def __init__(self, xs, ys, zs, *args, **kwargs):\n",
        "        super().__init__((0,0), (0,0), *args, **kwargs)\n",
        "        self._verts3d = xs, ys, zs\n",
        "\n",
        "    def do_3d_projection(self, renderer=None):\n",
        "        xs3d, ys3d, zs3d = self._verts3d\n",
        "        xs, ys, zs = proj3d.proj_transform(xs3d, ys3d, zs3d, self.axes.M)\n",
        "        self.set_positions((xs[0],ys[0]),(xs[1],ys[1]))\n",
        "\n",
        "        return np.min(zs)\n",
        "from matplotlib.colors import to_hex\n",
        "type_cl_dict = {}\n",
        "batch_name = test_batch\n",
        "for x,y in zip(adata_all[adata_all.obs['batch']!=batch_name].obs['label'].astype('category').cat.categories,\n",
        "               plt.get_cmap('gist_rainbow')(np.linspace(0, 1, len(adata_all.obs['label'].unique()))).tolist()):\n",
        "    type_cl_dict[x] = to_hex(y)\n",
        "\n",
        "\n",
        "new_cmap = adata_all[adata_all.obs['batch']!=batch_name].obs['label'].map(type_cl_dict).values\n",
        "new_cmap_bct = adata_all[adata_all.obs['batch']==batch_name].obs['predicted_label'].map(type_cl_dict).values\n",
        "\n",
        "size_umap = 120000 / adatas[0].shape[0]\n",
        "                                                                                    \n",
        "fig = plt.figure(figsize=[20,10])\n",
        "ax = plt.axes(projection=\"3d\")\n",
        "np.random.seed(0)\n",
        "ax.scatter3D(1, adata_all[adata_all.obs['batch']!=batch_name].obsm['X_umap'][:,0],\n",
        "              adata_all[adata_all.obs['batch']!=batch_name].obsm['X_umap'][:,1], color=new_cmap,s=size_umap, zorder=1)\n",
        "ax.scatter3D(2, adata_all[adata_all.obs['batch']==batch_name].obsm['X_umap'][:,0],\n",
        "              adata_all[adata_all.obs['batch']==batch_name].obsm['X_umap'][:,1], color='gray',s=size_umap, zorder=2)\n",
        "ax.scatter3D(3, adata_all[adata_all.obs['batch']==batch_name].obsm['X_umap'][:,0],\n",
        "              adata_all[adata_all.obs['batch']==batch_name].obsm['X_umap'][:,1], color=new_cmap_bct,s=size_umap, zorder=3)\n",
        "all_dots_x = adata_all[adata_all.obs['batch']!=batch_name].obsm['X_umap'][:,0]\n",
        "all_dots_y = adata_all[adata_all.obs['batch']!=batch_name].obsm['X_umap'][:,1]\n",
        "u_l = [all_dots_x.min()-1,all_dots_y.max()+1]\n",
        "u_r = [all_dots_x.max()+1,all_dots_y.max()+1]\n",
        "l_l = [all_dots_x.min()-1,all_dots_y.min()-1]\n",
        "l_r = [all_dots_x.max()+1,all_dots_y.min()-1]\n",
        "\n",
        "ax.plot3D([1,1,1,1,1],[l_r[0],l_l[0],u_l[0],u_r[0],l_r[0]],[l_r[1],l_l[1],u_l[1],u_r[1],l_r[1]],color='k', zorder=1)\n",
        "ax.plot3D([2,2,2,2,2],[l_r[0],l_l[0],u_l[0],u_r[0],l_r[0]],[l_r[1],l_l[1],u_l[1],u_r[1],l_r[1]],color='k', zorder=2)\n",
        "ax.plot3D([3,3,3,3,3],[l_r[0],l_l[0],u_l[0],u_r[0],l_r[0]],[l_r[1],l_l[1],u_l[1],u_r[1],l_r[1]],color='k', zorder=3)\n",
        "\n",
        "ax.view_init(5, -70)\n",
        "# poly = PolyCollection([[(-16,-13),(20,-13),(20,25),(-16,25)],[(-16,-13),(20,-13),(20,25),(-16,25)]], facecolors=['gray'], alpha=.5)\n",
        "# ax.add_collection3d(poly, zs=[1,2], zdir='x')\n",
        "# Hide grid lines\n",
        "ax.grid(False)\n",
        "plt.axis('off')\n",
        "# Hide axes ticks\n",
        "ax.set_xticks([])\n",
        "ax.set_yticks([])\n",
        "ax.set_zticks([])\n",
        "# plt.xlim(-0.5,1.5)\n",
        "\n",
        "for y,z in zip([l_r[0],l_l[0],u_l[0],u_r[0]],[l_r[1],l_l[1],u_l[1],u_r[1]]):\n",
        "  a = Arrow3D([1, 3], [y, y], \n",
        "              [z, z], mutation_scale=20, ls=\"dashed\",\n",
        "              lw=1, arrowstyle=\"-|>\", color=\"grey\")\n",
        "  ax.add_artist(a)\n",
        "\n",
        "plt.savefig('./figures/DLPFC_transfer_cell_type.png',dpi=800)\n",
        "plt.show()"
      ]
    }
  ],
  "metadata": {
    "accelerator": "GPU",
    "colab": {
      "machine_shape": "hm",
      "provenance": [],
      "include_colab_link": true
    },
    "gpuClass": "premium",
    "kernelspec": {
      "display_name": "Python 3 (ipykernel)",
      "language": "python",
      "name": "python3"
    },
    "language_info": {
      "codemirror_mode": {
        "name": "ipython",
        "version": 3
      },
      "file_extension": ".py",
      "mimetype": "text/x-python",
      "name": "python",
      "nbconvert_exporter": "python",
      "pygments_lexer": "ipython3",
      "version": "3.7.13"
    }
  },
  "nbformat": 4,
  "nbformat_minor": 0
}