{
  "cells": [
    {
      "cell_type": "markdown",
      "metadata": {
        "id": "view-in-github",
        "colab_type": "text"
      },
      "source": [
        "<a href=\"https://colab.research.google.com/github/LiuLab-Bioelectronics-Harvard/UnitedNet/blob/main/colab_notebooks/DBiTseq_colab.ipynb\" target=\"_parent\"><img src=\"https://colab.research.google.com/assets/colab-badge.svg\" alt=\"Open In Colab\"/></a>"
      ]
    },
    {
      "cell_type": "code",
      "source": [
        "# install required modules for colab\n",
        "!pip install anndata scanpy"
      ],
      "metadata": {
        "id": "3WFV6IR31MRD"
      },
      "execution_count": null,
      "outputs": []
    },
    {
      "cell_type": "code",
      "source": [
        "# mount the google drive\n",
        "from google.colab import drive\n",
        "drive.mount('/content/gdrive')\n",
        "#============================clone the repository to the folder 'UnitedNet_TestCodes' in google drive============ \n",
        "# %cd /content/gdrive/My Drive/UnitedNet_TestCodes\n",
        "# ! git clone https://github.com/LiuLab-Bioelectronics-Harvard/UnitedNet.git\n",
        "#change the directory\n",
        "%cd /content/gdrive/My Drive/UnitedNet_TestCodes/UnitedNet"
      ],
      "metadata": {
        "id": "x6uxRQnu1RKW"
      },
      "execution_count": null,
      "outputs": []
    },
    {
      "cell_type": "markdown",
      "metadata": {
        "id": "gwrYD3NY1lay"
      },
      "source": [
        "# dbitseq"
      ]
    },
    {
      "cell_type": "code",
      "execution_count": null,
      "metadata": {
        "id": "AkuFxc5qCsBI"
      },
      "outputs": [],
      "source": [
        "import anndata as ad\n",
        "import numpy as np\n",
        "import scanpy as sc\n",
        "import pandas as pd\n",
        "\n",
        "\n",
        "import seaborn as sns\n",
        "from collections import Counter\n",
        "from sklearn.neighbors import NearestNeighbors\n",
        "import pandas as pd\n",
        "import sys\n",
        "sys.path.append('..')\n",
        "import matplotlib.pyplot as plt\n",
        "from sklearn.metrics import adjusted_rand_score\n",
        "\n",
        "from src.interface import UnitedNet\n",
        "from src.configs import *\n",
        "from scipy.stats import spearmanr, pearsonr"
      ]
    },
    {
      "cell_type": "code",
      "execution_count": null,
      "metadata": {
        "id": "pgJ8wjN5CvCX"
      },
      "outputs": [],
      "source": [
        "def split_data(test_batch):\n",
        "    adata_rna_train = adata_rna_all[adata_rna_all.obs['batch'] != test_batch]\n",
        "    adata_morph_train = adata_morph_all[adata_morph_all.obs['batch'] != test_batch]\n",
        "    adata_mrna_niche_train = adata_mrna_niche_all[adata_mrna_niche_all.obs['batch'] != test_batch]\n",
        "\n",
        "    adata_rna_test = adata_rna_all[adata_rna_all.obs['batch'] == test_batch]\n",
        "    adata_morph_test = adata_morph_all[adata_morph_all.obs['batch'] == test_batch]\n",
        "    adata_mrna_niche_test = adata_mrna_niche_all[adata_mrna_niche_all.obs['batch'] == test_batch]\n",
        "\n",
        "    return [adata_rna_train, adata_morph_train, adata_mrna_niche_train], [adata_rna_test, adata_morph_test,\n",
        "                                                                          adata_mrna_niche_test]\n",
        "\n",
        "\n",
        "def concat_adatas(adatas_train, adatas_test):\n",
        "    return [ad.concat([adata_train, adata_test]) for adata_train, adata_test in zip(adatas_train, adatas_test)]\n",
        "\n",
        "\n",
        "def save_umap(adata_all,label,test_batch,nametype):\n",
        "  fig,ax = plt.subplots(figsize=(6,4))\n",
        "  ax=sc.pl.umap(adata_all,color=label, ax=ax,show=False)\n",
        "  fig.savefig(root_save_path+f'/plot/{test_batch}_{nametype}_{label}.png',dpi=300)\n",
        "  \n",
        "\n",
        "def generate_adata(data, nonnan_indices, cell_type_label, cols, rows, batch):\n",
        "    data = data.loc[data.index[nonnan_indices]]\n",
        "    adata=ad.AnnData(X=np.array(data),obs=list(data.index))\n",
        "    adata.obs['label']  = cell_type_label\n",
        "    adata.obs['imagecol'] = cols\n",
        "    adata.obs['imagerow'] = rows\n",
        "    adata.obs['batch']  = batch\n",
        "    return adata"
      ]
    },
    {
      "cell_type": "code",
      "execution_count": null,
      "metadata": {
        "id": "KDRFTmPHezv3"
      },
      "outputs": [],
      "source": [
        "from sklearn import preprocessing\n",
        "def change_label(adata,batch):\n",
        "    adata.obs['batch'] = batch\n",
        "    adata.obs['imagecol'] = adata.obs['array_col']\n",
        "    adata.obs['imagerow'] = adata.obs['array_row']\n",
        "    adata.obs['label'] = adata.obs['cell_type']\n",
        "    return adata"
      ]
    },
    {
      "cell_type": "code",
      "execution_count": null,
      "metadata": {
        "id": "5ZYioKpV05eT"
      },
      "outputs": [],
      "source": []
    },
    {
      "cell_type": "code",
      "execution_count": null,
      "metadata": {
        "id": "c461Lk3M05eT"
      },
      "outputs": [],
      "source": [
        "def pre_ps(adata_list,sc_pre = None):\n",
        "    adata_list_all = [ad_x.copy() for ad_x in adata_list]\n",
        "    scalars = []\n",
        "    assert (adata_list_all[0].X>=0).all(), \"poluted input\"\n",
        "    for idx, mod in enumerate(adata_list_all):\n",
        "        t_x = mod.X\n",
        "        if sc_pre != None:\n",
        "            scaler = sc_pre[idx]\n",
        "        else:\n",
        "            scaler = preprocessing.StandardScaler().fit(t_x)\n",
        "        t_x = scaler.transform(t_x)\n",
        "        mod.X = t_x\n",
        "        adata_list_all[idx] = mod\n",
        "        scalars.append(scaler)\n",
        "\n",
        "    return adata_list_all,scalars"
      ]
    },
    {
      "cell_type": "markdown",
      "metadata": {
        "id": "1pJB-bzypv1t"
      },
      "source": [
        "# load dbitseq data"
      ]
    },
    {
      "cell_type": "code",
      "execution_count": null,
      "metadata": {
        "id": "KhlpcjafCIaN"
      },
      "outputs": [],
      "source": [
        "technique = 'dbitseq'\n",
        "#========================change for colab===========================\n",
        "#data_path = f\"../data/{technique}\"\n",
        "data_path = f\"./data/{technique}\"\n",
        "device = \"cuda:0\""
      ]
    },
    {
      "cell_type": "markdown",
      "source": [
        "Add a short cut of dbitseq from https://drive.google.com/drive/folders/1Aj01ufOiDrdCRYe_7wvLAC9tUs1LGzGj?usp=sharing to My Drive/UnitedNet_TestCodes/data"
      ],
      "metadata": {
        "id": "MODr9vSH2EnF"
      }
    },
    {
      "cell_type": "code",
      "execution_count": null,
      "metadata": {
        "id": "btOdMqL4etAH"
      },
      "outputs": [],
      "source": [
        "adata_niche_rna_train = sc.read_h5ad(f'{data_path}/adata_niche_rna_train.h5ad')\n",
        "adata_niche_rna_test = sc.read_h5ad(f'{data_path}/adata_niche_rna_test.h5ad')\n",
        "\n",
        "adata_rna_train = sc.read_h5ad(f'{data_path}/adata_rna_train.h5ad')\n",
        "adata_rna_test = sc.read_h5ad(f'{data_path}/adata_rna_test.h5ad')\n",
        "\n",
        "adata_protein_train = sc.read_h5ad(f'{data_path}/adata_protein_train.h5ad')\n",
        "adata_protein_test = sc.read_h5ad(f'{data_path}/adata_protein_test.h5ad')\n"
      ]
    },
    {
      "cell_type": "code",
      "execution_count": null,
      "metadata": {
        "id": "-d1S6b92ewsD",
        "scrolled": true
      },
      "outputs": [],
      "source": [
        "adata_rna_train = change_label(adata_rna_train,'train')\n",
        "adata_protein_train=change_label(adata_protein_train,'train')\n",
        "adata_niche_rna_train=change_label(adata_niche_rna_train,'train')\n",
        "\n",
        "adata_rna_test = change_label(adata_rna_test,'test')\n",
        "adata_protein_test = change_label(adata_protein_test,'test')\n",
        "adata_niche_rna_test = change_label(adata_niche_rna_test,'test')\n",
        "\n",
        "adatas_train = [adata_rna_train, adata_protein_train, adata_niche_rna_train]\n",
        "adatas_test = [adata_rna_test, adata_protein_test, adata_niche_rna_test]\n",
        "\n",
        "adatas_all = []\n",
        "for ad_train, ad_test in zip(adatas_train,adatas_test):\n",
        "    ad_all = ad_train.concatenate(ad_test,batch_key='sample')\n",
        "    ad_all = change_label(ad_all,'test')\n",
        "    adatas_all.append(ad_all)\n",
        "adatas_all,_ = pre_ps(adatas_all)    \n",
        "    \n",
        "\n",
        "adatas_train,_ = pre_ps(adatas_train)   \n",
        "adatas_test,_ = pre_ps(adatas_test)   \n"
      ]
    },
    {
      "cell_type": "markdown",
      "metadata": {
        "id": "GR46K9SA05eV"
      },
      "source": [
        "# Train and finetune UnitedNet"
      ]
    },
    {
      "cell_type": "code",
      "source": [
        "train_model = True"
      ],
      "metadata": {
        "id": "7gMKJ7HI3lE0"
      },
      "execution_count": null,
      "outputs": []
    },
    {
      "cell_type": "code",
      "execution_count": null,
      "metadata": {
        "scrolled": true,
        "id": "mKr8-Xwa05eV"
      },
      "outputs": [],
      "source": [
        "if train_model:\n",
        "    technique = 'dbitseq'\n",
        "    #========================change for colab===========================\n",
        "    #data_path = f\"../data/{technique}\"\n",
        "    #root_save_path = f\"../saved_results/dlpfc\"\n",
        "    data_path = f\"./data/{technique}\"\n",
        "    root_save_path = f\"./saved_results/dlpfc\"\n",
        "    model = UnitedNet(root_save_path, device=device, technique=dbitseq_config)\n",
        "    model.train(adatas_train,verbose=True)\n",
        "    model.finetune(adatas_all,verbose=True)\n",
        "else:\n",
        "    technique = 'dbitseq'\n",
        "    #========================change for colab===========================\n",
        "    # data_path = f\"../data/{technique}\"\n",
        "    # root_save_path = f\"../saved_results/dlpfc\"\n",
        "    data_path = f\"./data/{technique}\"\n",
        "    root_save_path = f\"./saved_results/dlpfc\"\n",
        "    model = UnitedNet(root_save_path, device=device, technique=dbitseq_config)\n",
        "\n"
      ]
    },
    {
      "cell_type": "markdown",
      "metadata": {
        "id": "ucT2NB1L05eW"
      },
      "source": [
        "# Predict on all data"
      ]
    },
    {
      "cell_type": "code",
      "execution_count": null,
      "metadata": {
        "id": "g24FD6Vv05eW"
      },
      "outputs": [],
      "source": [
        "\n",
        "model = UnitedNet(root_save_path, device=device, technique=dbitseq_config)\n",
        "model.load_model(f\"{root_save_path}/train_best.pt\")\n",
        "# model.evaluate(adatas_train,give_losses=False,stage=\"train\")\n",
        "predict_label = model.predict_label(adatas_all)\n",
        "\n",
        "print(root_save_path,'ari:',adjusted_rand_score(adatas_all[0].obs['cell_type'],\n",
        "                    predict_label))"
      ]
    },
    {
      "cell_type": "code",
      "execution_count": null,
      "metadata": {
        "id": "1uAQiqI-05eW"
      },
      "outputs": [],
      "source": [
        "from src.data import create_dataloader\n",
        "dataloader_test = create_dataloader(\n",
        "    model.model,\n",
        "    adatas_train,\n",
        "    shuffle=False,\n",
        "    batch_size=model.model.config[\"train_batch_size\"],\n",
        ")"
      ]
    },
    {
      "cell_type": "code",
      "execution_count": null,
      "metadata": {
        "id": "nCwQgRhQ05eX"
      },
      "outputs": [],
      "source": [
        "import torch\n",
        "model.model.best_head = torch.tensor(7)"
      ]
    },
    {
      "cell_type": "code",
      "execution_count": null,
      "metadata": {
        "id": "B3Pf1h6A05eX"
      },
      "outputs": [],
      "source": [
        "from src.scripts import run_evaluate\n",
        "metrics = run_evaluate(model.model, dataloader_test)"
      ]
    },
    {
      "cell_type": "code",
      "execution_count": null,
      "metadata": {
        "id": "8fZqaZl705eX"
      },
      "outputs": [],
      "source": [
        "metrics"
      ]
    },
    {
      "cell_type": "code",
      "execution_count": null,
      "metadata": {
        "id": "Waji8NgI05eX"
      },
      "outputs": [],
      "source": []
    },
    {
      "cell_type": "code",
      "execution_count": null,
      "metadata": {
        "id": "yIhqoAaE05eX"
      },
      "outputs": [],
      "source": [
        "#smooth and plot results\n",
        "\n",
        "coord=np.array((list(adatas_all[0].obs['array_row'].astype('int')),\n",
        "                list(adatas_all[0].obs['array_col'].astype('int')))).T\n",
        "\n",
        "\n",
        "united_clus=list(predict_label)\n",
        "\n",
        "coord=np.array((list(adatas_all[0].obs['array_row'].astype('int')),\n",
        "                list(adatas_all[0].obs['array_col'].astype('int')))).T\n",
        "\n",
        "nbrs = NearestNeighbors(n_neighbors=5, algorithm='ball_tree').fit(coord)\n",
        "distances,indices = nbrs.kneighbors(coord)\n",
        "\n",
        "united_clus_new=[]\n",
        "for indi,i in enumerate(united_clus):\n",
        "  np.array(united_clus)[(indices[indi])]\n",
        "  occurence_count=Counter(np.array(united_clus)[(indices[indi])])\n",
        "  united_clus_new.append(occurence_count.most_common(1)[0][0])\n",
        "    \n",
        "\n",
        "cluster_pl = sns.color_palette('tab20',20)\n",
        "color_list = [cluster_pl[5],\n",
        " cluster_pl[1],\n",
        " cluster_pl[2],\n",
        " cluster_pl[4],\n",
        " cluster_pl[11],\n",
        " cluster_pl[6],\n",
        " cluster_pl[3],\n",
        " cluster_pl[7],\n",
        " cluster_pl[8],\n",
        " cluster_pl[0]]    "
      ]
    },
    {
      "cell_type": "code",
      "execution_count": null,
      "metadata": {
        "scrolled": true,
        "id": "KItE6Qgs05eY"
      },
      "outputs": [],
      "source": [
        "#================================================================================================\n",
        "# for import errors in colab, restart runtime and run the codes again\n",
        "#================================================================================================\n",
        "plt.figure(figsize=(6,5))\n",
        "for idx,clus_id in enumerate(set(united_clus_new)):\n",
        "    \n",
        "    plt.scatter(adatas_all[0].obs['array_row'][(united_clus_new==clus_id)],\n",
        "               adatas_all[0].obs['array_col'][(united_clus_new==clus_id)],\n",
        "               color=color_list[idx],cmap='tab20')\n",
        "plt.axis('off')\n",
        "# plt.savefig('dbitseq.png',dpi=300)"
      ]
    },
    {
      "cell_type": "code",
      "execution_count": null,
      "metadata": {
        "id": "nLNGTsch05eY"
      },
      "outputs": [],
      "source": []
    }
  ],
  "metadata": {
    "accelerator": "GPU",
    "colab": {
      "machine_shape": "hm",
      "provenance": [],
      "include_colab_link": true
    },
    "kernelspec": {
      "display_name": "Python 3 (ipykernel)",
      "language": "python",
      "name": "python3"
    },
    "language_info": {
      "codemirror_mode": {
        "name": "ipython",
        "version": 3
      },
      "file_extension": ".py",
      "mimetype": "text/x-python",
      "name": "python",
      "nbconvert_exporter": "python",
      "pygments_lexer": "ipython3",
      "version": "3.7.13"
    }
  },
  "nbformat": 4,
  "nbformat_minor": 0
}