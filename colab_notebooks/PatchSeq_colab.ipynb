{
  "cells": [
    {
      "cell_type": "markdown",
      "metadata": {
        "id": "view-in-github",
        "colab_type": "text"
      },
      "source": [
        "<a href=\"https://colab.research.google.com/github/LiuLab-Bioelectronics-Harvard/UnitedNet/blob/main/colab_notebooks/PatchSeq_colab.ipynb\" target=\"_parent\"><img src=\"https://colab.research.google.com/assets/colab-badge.svg\" alt=\"Open In Colab\"/></a>"
      ]
    },
    {
      "cell_type": "code",
      "source": [
        "# install required modules for colab \n",
        "!pip install anndata scanpy"
      ],
      "metadata": {
        "id": "B3Tazf9h9anj"
      },
      "execution_count": null,
      "outputs": []
    },
    {
      "cell_type": "code",
      "source": [
        "# mount the google drive\n",
        "from google.colab import drive\n",
        "drive.mount('/content/gdrive')\n",
        "#============================clone the repository to the folder 'UnitedNet_TestCodes' in google drive============ \n",
        "# %cd /content/gdrive/My Drive/UnitedNet_TestCodes\n",
        "# ! git clone https://github.com/LiuLab-Bioelectronics-Harvard/UnitedNet.git\n",
        "#change the directory\n",
        "%cd /content/gdrive/My Drive/UnitedNet_TestCodes/UnitedNet"
      ],
      "metadata": {
        "id": "tzQkC2ZZ9jsv"
      },
      "execution_count": null,
      "outputs": []
    },
    {
      "cell_type": "code",
      "source": [
        "import os\n",
        "cwd = os.getcwd()"
      ],
      "metadata": {
        "id": "llAySLihBn3d"
      },
      "execution_count": null,
      "outputs": []
    },
    {
      "cell_type": "code",
      "execution_count": null,
      "metadata": {
        "id": "JrDU0pqvI73Y"
      },
      "outputs": [],
      "source": [
        "import anndata as ad\n",
        "import numpy as np\n",
        "import scanpy as sc\n",
        "import pandas as pd\n",
        "from scipy.stats import spearmanr, pearsonr\n",
        "import matplotlib.pyplot as plt\n",
        "import seaborn as sns\n",
        "from sklearn.metrics import adjusted_rand_score, confusion_matrix\n",
        "from sklearn.model_selection import StratifiedKFold\n",
        "from sklearn import preprocessing\n",
        "from sklearn.preprocessing import LabelEncoder\n",
        "from scipy.optimize import linear_sum_assignment\n",
        "\n",
        "import sys\n",
        "# sys.path.append('..')\n",
        "#========================change for colab===========================\n",
        "sys.path.append('.')\n",
        "from src.interface import UnitedNet\n",
        "from src.configs import *\n",
        "import copy as copy\n"
      ]
    },
    {
      "cell_type": "code",
      "execution_count": null,
      "metadata": {
        "id": "jg8U9C3II73f"
      },
      "outputs": [],
      "source": [
        "def partitions(celltype, n_partitions, seed=0):\n",
        "    \"\"\"\n",
        "    adapted from https://github.com/AllenInstitute/coupledAE-patchseq\n",
        "    \"\"\"\n",
        "    import warnings\n",
        "    warnings.filterwarnings(\"ignore\", category=UserWarning)\n",
        "\n",
        "    # Safe to ignore warning - there are celltypes with a low sample number that are not crucial for the analysis.\n",
        "    with warnings.catch_warnings():\n",
        "        skf = StratifiedKFold(n_splits=n_partitions, random_state=seed, shuffle=True)\n",
        "\n",
        "    # Get all partition indices from the sklearn generator:\n",
        "    ind_dict = [{'train': train_ind, 'val': val_ind} for train_ind, val_ind in\n",
        "                skf.split(X=np.zeros(shape=celltype.shape), y=celltype)]\n",
        "    return ind_dict\n",
        "    \n",
        "def save_umap(adata_all,label,test_batch,nametype):\n",
        "  fig,ax = plt.subplots(figsize=(6,4))\n",
        "  ax=sc.pl.umap(adata_all,color=label, ax=ax,show=False)\n",
        "  fig.savefig(root_save_path+f'/plot/{test_batch}_{nametype}_{label}.png',dpi=300)\n",
        "  \n",
        "\n",
        "def generate_adata(data, nonnan_indices, cell_type_label, cols, rows, batch):\n",
        "    data = data.loc[data.index[nonnan_indices]]\n",
        "    adata=ad.AnnData(X=np.array(data),obs=list(data.index))\n",
        "    adata.obs['label']  = cell_type_label\n",
        "    adata.obs['imagecol'] = cols\n",
        "    adata.obs['imagerow'] = rows\n",
        "    adata.obs['batch']  = batch\n",
        "    return adata\n",
        "\n",
        "\n",
        "def ordered_cmat(labels, pred):\n",
        "    \"\"\"\n",
        "    Compute the confusion matrix and accuracy corresponding to the best cluster-to-class assignment.\n",
        "\n",
        "    :param labels: Label array\n",
        "    :type labels: np.array\n",
        "    :param pred: Predictions array\n",
        "    :type pred: np.array\n",
        "    :return: Accuracy and confusion matrix\n",
        "    :rtype: Tuple[float, np.array]\n",
        "    \"\"\"\n",
        "    cmat = confusion_matrix(labels, pred)\n",
        "    ri, ci = linear_sum_assignment(-cmat)\n",
        "    ordered = cmat[np.ix_(ri, ci)]\n",
        "    acc = np.sum(np.diag(ordered))/np.sum(ordered)\n",
        "    return acc, ordered\n",
        "\n",
        "def assignmene_align(labels1,labels2):\n",
        "    C_e_types = confusion_matrix(labels1, labels2)\n",
        "    #Assign labels of clusters based on 'best match' with transcriptomic celltype label\n",
        "    row_ind,col_ind = linear_sum_assignment(-C_e_types)\n",
        "    order_2 = np.unique(labels2)[col_ind]\n",
        "    labels2_matched = copy.deepcopy(labels2)\n",
        "    for name, orig_name in zip(np.unique(labels2),order_2):\n",
        "        ind = labels2 == orig_name\n",
        "        labels2_matched[ind] = name\n",
        "    return labels2_matched"
      ]
    },
    {
      "cell_type": "code",
      "execution_count": null,
      "metadata": {
        "id": "51b-XojZ4coj"
      },
      "outputs": [],
      "source": [
        "def pre_ps(adata_rna_raw,adata_ephys_raw,adata_morph_raw,cv,split=False):\n",
        "  adata_rna,adata_ephys,adata_morph = adata_rna_raw.copy(),adata_ephys_raw.copy(),adata_morph_raw.copy()\n",
        "  adatas_train,adatas_test = [],[]\n",
        "  assert (adata_rna.X>=0).all(), \"poluted input\"\n",
        "  for mod in [adata_rna,adata_ephys,adata_morph]:\n",
        "    mod.obs['label'] = mod.obs['cell_type_TEM']\n",
        "    if split:\n",
        "      m_train = mod[ind_dict[cv]['train']]\n",
        "      scaler = preprocessing.StandardScaler().fit(m_train.X)\n",
        "      m_train.X = scaler.transform(m_train.X)\n",
        "\n",
        "      m_test = mod[ind_dict[cv]['val']]\n",
        "      scaler = preprocessing.StandardScaler().fit(m_test.X)\n",
        "      m_test.X = scaler.transform(m_test.X)\n",
        "    else:\n",
        "      scaler = preprocessing.StandardScaler().fit(mod.X)\n",
        "      mod.X = scaler.transform(mod.X)\n",
        "      m_train = mod[ind_dict[cv]['train']]\n",
        "      m_test = mod[ind_dict[cv]['val']]\n",
        "\n",
        "    adatas_train.append(m_train)\n",
        "    adatas_test.append(m_test)\n",
        "  adatas_all = [ad.concat([m_train,m_test]) for m_train,m_test in zip(adatas_train,adatas_test)]\n",
        "  return adatas_train,adatas_test,adatas_all"
      ]
    },
    {
      "cell_type": "markdown",
      "metadata": {
        "id": "U17gKT4kI73f"
      },
      "source": [
        "# load input patch-seq data"
      ]
    },
    {
      "cell_type": "code",
      "execution_count": null,
      "metadata": {
        "id": "ZrojS7QvI73f"
      },
      "outputs": [],
      "source": [
        "technique = 'patchseq'\n",
        "# data_path = f\"../data/{technique}\"\n",
        "#========================change for colab===========================\n",
        "data_path = f\"./data/{technique}\"\n",
        "device = \"cuda:0\"\n",
        "# root_save_path = f\"../saved_results/{technique}\"\n",
        "#========================change for colab===========================\n",
        "root_save_path = f\"./saved_results/{technique}\"\n",
        "#load data\n",
        "adata_rna_raw = sc.read_h5ad(f'{data_path}/adata_RNA_TEM.h5ad')\n",
        "adata_ephys_raw = sc.read_h5ad(f'{data_path}/adata_Ephys_TEM.h5ad')\n",
        "adata_morph_raw = sc.read_h5ad(f'{data_path}/adata_Morph_TEM.h5ad')\n",
        "ind_dict = partitions(adata_rna_raw.obs['cell_type_TEM'], n_partitions=10, seed=0)\n"
      ]
    },
    {
      "cell_type": "code",
      "execution_count": null,
      "metadata": {
        "id": "Za5PQuBXI73g"
      },
      "outputs": [],
      "source": [
        "for cv in range(10):\n",
        "  adatas_train,adatas_test,_ = pre_ps(adata_rna_raw,adata_ephys_raw,adata_morph_raw,cv,split=True)\n",
        "  root_save_path = f\"./saved_results/{technique}_{cv}\"\n",
        "  model = UnitedNet(root_save_path, device=device, technique=patchseq_config)\n",
        "  model.train(adatas_train,adatas_val = adatas_test)\n",
        "\n",
        "  print(model.evaluate(adatas_test))\n",
        "  _,_,adatas_all = pre_ps(adata_rna_raw,adata_ephys_raw,adata_morph_raw,cv,split=False)\n",
        "  model.load_model(f\"{root_save_path}/train_best.pt\")\n",
        "  model.model.config['train_task'] = \"unsupervised_group_identification\"\n",
        "  model.model.config['train_epochs'] = 20\n",
        "  model.train(adatas_all,verbose=True,init_classify=True)\n",
        "  \n",
        "  "
      ]
    },
    {
      "cell_type": "code",
      "execution_count": null,
      "metadata": {
        "id": "bMMO5jI3fDe5"
      },
      "outputs": [],
      "source": [
        "print('==============best finetune================')\n",
        "model.load_model(f\"{root_save_path}/train_best.pt\")\n",
        "model.evaluate(adatas_all,give_losses=True,stage=\"train\")\n"
      ]
    },
    {
      "cell_type": "code",
      "execution_count": null,
      "metadata": {
        "id": "kK0YjrDHneS5"
      },
      "outputs": [],
      "source": [
        "ct_df = pd.DataFrame({'ct':adatas_all[0].obs['cell_type_TEM'].values})#,'ct_less':cell_type_less\n",
        "plt.figure()\n",
        "ct_df.ct.value_counts().sort_values().plot(kind = 'barh')\n"
      ]
    },
    {
      "cell_type": "code",
      "execution_count": null,
      "metadata": {
        "id": "NTSbSci5oPBG"
      },
      "outputs": [],
      "source": [
        "\n",
        "model.load_model(f\"{root_save_path}/train_best.pt\")\n",
        "losses = model.evaluate(adatas_all,give_losses=True,stage='train')\n",
        "predict_label = model.predict_label(adatas_all)\n",
        "adata_fused = model.infer(adatas_all)\n",
        "adata_fused.obs['label'] = list(adatas_all[0].obs['label'])\n",
        "adata_fused.obs['label_less'] = [ct.split('-')[0] for ct in adata_fused.obs['label'].values]\n"
      ]
    },
    {
      "cell_type": "code",
      "execution_count": null,
      "metadata": {
        "id": "i59zAIp9ydZQ"
      },
      "outputs": [],
      "source": [
        "from sklearn.utils.multiclass import unique_labels\n",
        "\n",
        "\n",
        "pseudo_label = np.array(adata_fused.obs['predicted_label'].values)\n",
        "cmat = confusion_matrix(adata_fused.obs['label'], pseudo_label)\n",
        "ri, ci = linear_sum_assignment(-cmat)\n",
        "ordered_all = cmat[np.ix_(ri, ci)]\n",
        "major_sub_names = {}\n",
        "pred_labels_re_order = copy.deepcopy(pseudo_label)\n",
        "for re_oder,(lb_correct,lb) in enumerate(zip(unique_labels(adata_fused.obs['label'], pseudo_label)[ri],\n",
        "                                unique_labels(adata_fused.obs['label'], pseudo_label)[ci])):\n",
        "  idx = pseudo_label==lb\n",
        "  if any(idx):\n",
        "    nm = '-'.join(lb_correct.split('-')[:-1])\n",
        "    if nm in major_sub_names.keys():\n",
        "      major_sub_names[nm]+=1\n",
        "    else:\n",
        "      major_sub_names[nm]=1\n",
        "    \n",
        "    pred_labels_re_order[idx] = f'{nm}-{major_sub_names[nm]}-Uni'#f'{lb_correct}-Uni'#\n",
        "\n",
        "adata_fused.obs['predicted_label'] = pred_labels_re_order\n"
      ]
    },
    {
      "cell_type": "code",
      "execution_count": null,
      "metadata": {
        "id": "o3XCmDH-3eeh"
      },
      "outputs": [],
      "source": [
        "sns.set_style('ticks')\n",
        "adata_fused.obs['predicted_label_less'] = [ct.split('-')[0] for ct in adata_fused.obs['predicted_label'].values]\n",
        "cmat = confusion_matrix(adata_fused.obs['predicted_label'], adata_fused.obs['label_less'])\n",
        "cmat = cmat[:,cmat.sum(axis=0)!=0]\n",
        "cmat = cmat[cmat.sum(axis=1)!=0,:]\n",
        "cmat = (cmat.T / cmat.sum(axis=1)).T\n",
        "\n",
        "fig,ax = plt.subplots(figsize=[1.2,5])\n",
        "sns.heatmap(cmat,ax=ax,yticklabels=unique_labels(adata_fused.obs['predicted_label']),xticklabels=unique_labels(adata_fused.obs['label_less']),vmin=0, vmax=1)\n",
        "plt.xlabel('TEM joint label')\n",
        "plt.savefig('./figures/major_matching_heatmap.pdf')\n",
        "\n",
        "fig,ax = plt.subplots(figsize=[6,5])\n",
        "ordered = ordered_all[:,ordered_all.sum(axis=0)!=0]\n",
        "ordered = ordered[ordered.sum(axis=1)!=0,:]\n",
        "ordered_re = ordered.T\n",
        "ordered_norm = (ordered_re.T / ordered_re.sum(axis=1)).T\n",
        "\n",
        "sns.heatmap(ordered_norm,ax=ax,xticklabels=unique_labels(adata_fused.obs['label']),yticklabels=unique_labels(adata_fused.obs['predicted_label']),vmin=0, vmax=1)\n",
        "plt.xlabel('TEM joint label')\n",
        "plt.savefig('./figures/sub_matching_heatmap.pdf')\n",
        "\n",
        "\n",
        "\n"
      ]
    },
    {
      "cell_type": "code",
      "execution_count": null,
      "metadata": {
        "id": "p6QPgqwU7uVS"
      },
      "outputs": [],
      "source": [
        "\n",
        "sc.pl.umap(adata_fused,color=['label'],palette='rainbow',show=True,edges=True,edges_width = 0.2,linewidth=1000,edgecolors='k',title='',save='patch_seq_2D_orig_MET.pdf')\n",
        "sc.pl.umap(adata_fused,color=['predicted_label'],palette='rainbow',show=True,edges=True,edges_width = 0.2,linewidth=1000,edgecolors='k',title='',save='patch_seq_2D_Uni_MET.pdf')\n",
        "\n",
        "\n",
        "sc.pl.umap(adata_fused,color=['label_less'],palette='rainbow',show=True,edges=True,edges_width = 0.2,linewidth=1000,edgecolors='k',title='',save='patch_seq_2D_MET_comparison.pdf')\n",
        "sc.pl.umap(adata_fused,color=['predicted_label_less'],palette='rainbow',show=True,edges=True,edges_width = 0.2,linewidth=1000,edgecolors='k',title='',save='patch_seq_2D_MET_comparison_no_legend.pdf')\n"
      ]
    }
  ],
  "metadata": {
    "accelerator": "GPU",
    "colab": {
      "machine_shape": "hm",
      "provenance": [],
      "include_colab_link": true
    },
    "kernelspec": {
      "display_name": "Python 3 (ipykernel)",
      "language": "python",
      "name": "python3"
    },
    "language_info": {
      "codemirror_mode": {
        "name": "ipython",
        "version": 3
      },
      "file_extension": ".py",
      "mimetype": "text/x-python",
      "name": "python",
      "nbconvert_exporter": "python",
      "pygments_lexer": "ipython3",
      "version": "3.7.13"
    }
  },
  "nbformat": 4,
  "nbformat_minor": 0
}