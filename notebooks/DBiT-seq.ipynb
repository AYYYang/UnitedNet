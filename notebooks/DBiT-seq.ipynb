{
 "cells": [
  {
   "cell_type": "markdown",
   "metadata": {
    "id": "gwrYD3NY1lay"
   },
   "source": [
    "# dbitseq"
   ]
  },
  {
   "cell_type": "code",
   "execution_count": null,
   "metadata": {
    "id": "AkuFxc5qCsBI"
   },
   "outputs": [],
   "source": [
    "import anndata as ad\n",
    "import numpy as np\n",
    "import scanpy as sc\n",
    "import pandas as pd\n",
    "\n",
    "\n",
    "import seaborn as sns\n",
    "from collections import Counter\n",
    "from sklearn.neighbors import NearestNeighbors\n",
    "import pandas as pd\n",
    "import sys\n",
    "sys.path.append('..')\n",
    "import matplotlib.pyplot as plt\n",
    "from sklearn.metrics import adjusted_rand_score\n",
    "\n",
    "from src.interface import UnitedNet\n",
    "from src.configs import *\n",
    "from scipy.stats import spearmanr, pearsonr"
   ]
  },
  {
   "cell_type": "code",
   "execution_count": null,
   "metadata": {
    "id": "pgJ8wjN5CvCX"
   },
   "outputs": [],
   "source": [
    "def split_data(test_batch):\n",
    "    adata_rna_train = adata_rna_all[adata_rna_all.obs['batch'] != test_batch]\n",
    "    adata_morph_train = adata_morph_all[adata_morph_all.obs['batch'] != test_batch]\n",
    "    adata_mrna_niche_train = adata_mrna_niche_all[adata_mrna_niche_all.obs['batch'] != test_batch]\n",
    "\n",
    "    adata_rna_test = adata_rna_all[adata_rna_all.obs['batch'] == test_batch]\n",
    "    adata_morph_test = adata_morph_all[adata_morph_all.obs['batch'] == test_batch]\n",
    "    adata_mrna_niche_test = adata_mrna_niche_all[adata_mrna_niche_all.obs['batch'] == test_batch]\n",
    "\n",
    "    return [adata_rna_train, adata_morph_train, adata_mrna_niche_train], [adata_rna_test, adata_morph_test,\n",
    "                                                                          adata_mrna_niche_test]\n"
   ]
  },
  {
   "cell_type": "code",
   "execution_count": null,
   "metadata": {
    "id": "KDRFTmPHezv3"
   },
   "outputs": [],
   "source": [
    "from sklearn import preprocessing\n",
    "def change_label(adata,batch):\n",
    "    adata.obs['batch'] = batch\n",
    "    adata.obs['imagecol'] = adata.obs['array_col']\n",
    "    adata.obs['imagerow'] = adata.obs['array_row']\n",
    "    adata.obs['label'] = adata.obs['cell_type']\n",
    "    return adata"
   ]
  },
  {
   "cell_type": "code",
   "execution_count": null,
   "metadata": {},
   "outputs": [],
   "source": [
    "def pre_ps(adata_list,sc_pre = None):\n",
    "    adata_list_all = [ad_x.copy() for ad_x in adata_list]\n",
    "    scalars = []\n",
    "    assert (adata_list_all[0].X>=0).all(), \"poluted input\"\n",
    "    for idx, mod in enumerate(adata_list_all):\n",
    "        t_x = mod.X\n",
    "        if sc_pre != None:\n",
    "            scaler = sc_pre[idx]\n",
    "        else:\n",
    "            scaler = preprocessing.StandardScaler().fit(t_x)\n",
    "        t_x = scaler.transform(t_x)\n",
    "        mod.X = t_x\n",
    "        adata_list_all[idx] = mod\n",
    "        scalars.append(scaler)\n",
    "\n",
    "    return adata_list_all,scalars"
   ]
  },
  {
   "cell_type": "markdown",
   "metadata": {
    "id": "1pJB-bzypv1t"
   },
   "source": [
    "# load dbitseq data"
   ]
  },
  {
   "cell_type": "code",
   "execution_count": null,
   "metadata": {
    "id": "KhlpcjafCIaN"
   },
   "outputs": [],
   "source": [
    "technique = 'dbitseq'\n",
    "data_path = f\"../data/{technique}\"\n",
    "device = \"cuda:0\""
   ]
  },
  {
   "cell_type": "code",
   "execution_count": null,
   "metadata": {
    "colab": {
     "base_uri": "https://localhost:8080/"
    },
    "id": "btOdMqL4etAH",
    "outputId": "bbff3ef2-cbf6-43c4-b5b2-22be00515626"
   },
   "outputs": [],
   "source": [
    "adata_niche_rna_train = sc.read_h5ad(f'{data_path}/adata_niche_rna_train.h5ad')\n",
    "adata_niche_rna_test = sc.read_h5ad(f'{data_path}/adata_niche_rna_test.h5ad')\n",
    "\n",
    "adata_rna_train = sc.read_h5ad(f'{data_path}/adata_rna_train.h5ad')\n",
    "adata_rna_test = sc.read_h5ad(f'{data_path}/adata_rna_test.h5ad')\n",
    "\n",
    "adata_protein_train = sc.read_h5ad(f'{data_path}/adata_protein_train.h5ad')\n",
    "adata_protein_test = sc.read_h5ad(f'{data_path}/adata_protein_test.h5ad')\n"
   ]
  },
  {
   "cell_type": "code",
   "execution_count": null,
   "metadata": {
    "colab": {
     "base_uri": "https://localhost:8080/"
    },
    "id": "-d1S6b92ewsD",
    "outputId": "13ef1278-65a5-433c-e160-4da4efa26482",
    "scrolled": true
   },
   "outputs": [],
   "source": [
    "adata_rna_train = change_label(adata_rna_train,'train')\n",
    "adata_protein_train=change_label(adata_protein_train,'train')\n",
    "adata_niche_rna_train=change_label(adata_niche_rna_train,'train')\n",
    "\n",
    "adata_rna_test = change_label(adata_rna_test,'test')\n",
    "adata_protein_test = change_label(adata_protein_test,'test')\n",
    "adata_niche_rna_test = change_label(adata_niche_rna_test,'test')\n",
    "\n",
    "adatas_train = [adata_rna_train, adata_protein_train, adata_niche_rna_train]\n",
    "adatas_test = [adata_rna_test, adata_protein_test, adata_niche_rna_test]\n",
    "\n",
    "adatas_all = []\n",
    "for ad_train, ad_test in zip(adatas_train,adatas_test):\n",
    "    ad_all = ad_train.concatenate(ad_test,batch_key='sample')\n",
    "    ad_all = change_label(ad_all,'test')\n",
    "    adatas_all.append(ad_all)\n",
    "adatas_all,_ = pre_ps(adatas_all)    \n",
    "    \n",
    "\n",
    "adatas_train,_ = pre_ps(adatas_train)   \n",
    "adatas_test,_ = pre_ps(adatas_test)   \n"
   ]
  },
  {
   "cell_type": "markdown",
   "metadata": {},
   "source": [
    "# Train and finetune UnitedNet"
   ]
  },
  {
   "cell_type": "code",
   "execution_count": null,
   "metadata": {
    "scrolled": true
   },
   "outputs": [],
   "source": [
    "train_model = True\n",
    "if train_model:\n",
    "    technique = 'dbitseq'\n",
    "    data_path = f\"../data/{technique}\"\n",
    "    root_save_path = f\"../saved_results/dbitseq\"\n",
    "    model = UnitedNet(root_save_path, device=device, technique=dbitseq_config)\n",
    "    model.train(adatas_train,verbose=True)\n",
    "    model.finetune(adatas_all,verbose=True)\n",
    "else:\n",
    "    technique = 'dbitseq'\n",
    "    data_path = f\"../data/{technique}\"\n",
    "    root_save_path = f\"../saved_results/dbitseq\"\n",
    "    model = UnitedNet(root_save_path, device=device, technique=dbitseq_config)\n",
    "\n"
   ]
  },
  {
   "cell_type": "markdown",
   "metadata": {},
   "source": [
    "# Predict on all data"
   ]
  },
  {
   "cell_type": "code",
   "execution_count": null,
   "metadata": {},
   "outputs": [],
   "source": [
    "\n",
    "model = UnitedNet(root_save_path, device=device, technique=dbitseq_config)\n",
    "model.load_model(f\"{root_save_path}/train_best.pt\",device=torch.device(device))\n",
    "model.model.device_in_use = device\n",
    "predict_label = model.predict_label(adatas_all)\n",
    "\n",
    "print(root_save_path,'ari:',adjusted_rand_score(adatas_all[0].obs['cell_type'],\n",
    "                    predict_label))"
   ]
  },
  {
   "cell_type": "code",
   "execution_count": null,
   "metadata": {},
   "outputs": [],
   "source": [
    "from src.data import create_dataloader\n",
    "dataloader_test = create_dataloader(\n",
    "    model.model,\n",
    "    adatas_train,\n",
    "    shuffle=False,\n",
    "    batch_size=model.model.config[\"train_batch_size\"],\n",
    ")"
   ]
  },
  {
   "cell_type": "code",
   "execution_count": null,
   "metadata": {},
   "outputs": [],
   "source": [
    "#smooth and plot results\n",
    "\n",
    "coord=np.array((list(adatas_all[0].obs['array_row'].astype('int')),\n",
    "                list(adatas_all[0].obs['array_col'].astype('int')))).T\n",
    "\n",
    "\n",
    "united_clus=list(predict_label)\n",
    "\n",
    "coord=np.array((list(adatas_all[0].obs['array_row'].astype('int')),\n",
    "                list(adatas_all[0].obs['array_col'].astype('int')))).T\n",
    "\n",
    "nbrs = NearestNeighbors(n_neighbors=5, algorithm='ball_tree').fit(coord)\n",
    "distances,indices = nbrs.kneighbors(coord)\n",
    "\n",
    "united_clus_new=[]\n",
    "for indi,i in enumerate(united_clus):\n",
    "  np.array(united_clus)[(indices[indi])]\n",
    "  occurence_count=Counter(np.array(united_clus)[(indices[indi])])\n",
    "  united_clus_new.append(occurence_count.most_common(1)[0][0])\n",
    "    \n",
    "\n",
    "cluster_pl = sns.color_palette('tab20',20)\n",
    "color_list = [cluster_pl[5],\n",
    " cluster_pl[1],\n",
    " cluster_pl[2],\n",
    " cluster_pl[4],\n",
    " cluster_pl[11],\n",
    " cluster_pl[6],\n",
    " cluster_pl[3],\n",
    " cluster_pl[7],\n",
    " cluster_pl[8],\n",
    " cluster_pl[0]]    "
   ]
  },
  {
   "cell_type": "code",
   "execution_count": null,
   "metadata": {
    "scrolled": true
   },
   "outputs": [],
   "source": [
    "plt.figure(figsize=(6,5))\n",
    "for idx,clus_id in enumerate(set(united_clus_new)):\n",
    "    \n",
    "    plt.scatter(adatas_all[0].obs['array_row'][(united_clus_new==clus_id)],\n",
    "               adatas_all[0].obs['array_col'][(united_clus_new==clus_id)],\n",
    "               color=color_list[idx],cmap='tab20')\n",
    "plt.axis('off')\n"
   ]
  },
  {
   "cell_type": "code",
   "execution_count": null,
   "metadata": {},
   "outputs": [],
   "source": []
  }
 ],
 "metadata": {
  "accelerator": "GPU",
  "colab": {
   "collapsed_sections": [],
   "machine_shape": "hm",
   "name": "V1: dbitseq.ipynb",
   "provenance": []
  },
  "kernelspec": {
   "display_name": "Python 3 (ipykernel)",
   "language": "python",
   "name": "python3"
  },
  "language_info": {
   "codemirror_mode": {
    "name": "ipython",
    "version": 3
   },
   "file_extension": ".py",
   "mimetype": "text/x-python",
   "name": "python",
   "nbconvert_exporter": "python",
   "pygments_lexer": "ipython3",
   "version": "3.7.13"
  }
 },
 "nbformat": 4,
 "nbformat_minor": 1
}
